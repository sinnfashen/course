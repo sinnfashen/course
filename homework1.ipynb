{
 "cells": [
  {
   "cell_type": "code",
   "execution_count": 1,
   "metadata": {
    "collapsed": true
   },
   "outputs": [],
   "source": [
    "import numpy\n",
    "import pandas"
   ]
  },
  {
   "cell_type": "code",
   "execution_count": 2,
   "metadata": {
    "collapsed": false
   },
   "outputs": [
    {
     "name": "stdout",
     "output_type": "stream",
     "text": [
      "[[0 1 0 0]\n",
      " [1 1 1 0]\n",
      " [0 1 1 1]\n",
      " [0 1 1 1]\n",
      " [1 1 1 0]\n",
      " [1 1 1 1]\n",
      " [1 0 1 0]\n",
      " [1 0 1 0]\n",
      " [1 1 0 0]\n",
      " [0 0 0 0]\n",
      " [1 0 1 0]\n",
      " [1 0 1 1]\n",
      " [0 1 0 0]\n",
      " [1 1 1 0]\n",
      " [0 0 1 0]\n",
      " [0 0 0 1]\n",
      " [0 1 0 0]\n",
      " [0 0 1 0]\n",
      " [1 0 0 0]\n",
      " [0 1 0 0]\n",
      " [1 0 1 0]\n",
      " [0 1 0 1]\n",
      " [0 0 1 1]\n",
      " [1 1 0 0]\n",
      " [1 0 1 1]\n",
      " [1 0 1 0]]\n"
     ]
    }
   ],
   "source": [
    "num_list = numpy.random.binomial(1, 0.5, (26, 4))\n",
    "print num_list"
   ]
  },
  {
   "cell_type": "code",
   "execution_count": 3,
   "metadata": {
    "collapsed": false
   },
   "outputs": [],
   "source": [
    "#new_list = num_list[num_list>0.5]\n",
    "new_list = num_list"
   ]
  },
  {
   "cell_type": "code",
   "execution_count": 4,
   "metadata": {
    "collapsed": false
   },
   "outputs": [
    {
     "name": "stdout",
     "output_type": "stream",
     "text": [
      "   one  two  three  four\n",
      "A    0    1      0     0\n",
      "B    1    1      1     0\n",
      "C    0    1      1     1\n",
      "D    0    1      1     1\n",
      "E    1    1      1     0\n",
      "F    1    1      1     1\n",
      "G    1    0      1     0\n",
      "H    1    0      1     0\n",
      "I    1    1      0     0\n",
      "J    0    0      0     0\n",
      "K    1    0      1     0\n",
      "L    1    0      1     1\n",
      "M    0    1      0     0\n",
      "N    1    1      1     0\n",
      "O    0    0      1     0\n",
      "P    0    0      0     1\n",
      "Q    0    1      0     0\n",
      "R    0    0      1     0\n",
      "S    1    0      0     0\n",
      "T    0    1      0     0\n",
      "U    1    0      1     0\n",
      "V    0    1      0     1\n",
      "W    0    0      1     1\n",
      "X    1    1      0     0\n",
      "Y    1    0      1     1\n",
      "Z    1    0      1     0\n"
     ]
    }
   ],
   "source": [
    "df = pandas.DataFrame()\n",
    "le = [unichr(i) for i in range(0x41, 0x5B, 1)]\n",
    "columns = ['one', 'two', 'three', 'four']\n",
    "df = pandas.DataFrame(new_list, index = le, columns = columns)\n",
    "print df"
   ]
  },
  {
   "cell_type": "code",
   "execution_count": 5,
   "metadata": {
    "collapsed": false
   },
   "outputs": [
    {
     "name": "stdout",
     "output_type": "stream",
     "text": [
      "   one  two  three  four\n",
      "A    0    1      0     0\n",
      "I    1    1      0     0\n",
      "X    1    1      0     0\n",
      "V    0    1      0     1\n",
      "T    0    1      0     0\n"
     ]
    }
   ],
   "source": [
    "df = df.sort_values(\"two\",0,False)\n",
    "df = df.iloc[:5]\n",
    "print df"
   ]
  },
  {
   "cell_type": "code",
   "execution_count": 6,
   "metadata": {
    "collapsed": false
   },
   "outputs": [
    {
     "name": "stdout",
     "output_type": "stream",
     "text": [
      "sum      2\n",
      "count    5.000000\n",
      "mean     0.400000\n",
      "std      0.547723\n",
      "min      0.000000\n",
      "25%      0.000000\n",
      "50%      0.000000\n",
      "75%      1.000000\n",
      "max      1.000000\n",
      "Name: one, dtype: float64\n"
     ]
    }
   ],
   "source": [
    "cf = df['one']\n",
    "print \"sum      {}\".format(cf.sum())\n",
    "print cf.describe()"
   ]
  }
 ],
 "metadata": {
  "kernelspec": {
   "display_name": "Python 2",
   "language": "python",
   "name": "python2"
  },
  "language_info": {
   "codemirror_mode": {
    "name": "ipython",
    "version": 2
   },
   "file_extension": ".py",
   "mimetype": "text/x-python",
   "name": "python",
   "nbconvert_exporter": "python",
   "pygments_lexer": "ipython2",
   "version": "2.7.12"
  }
 },
 "nbformat": 4,
 "nbformat_minor": 2
}
